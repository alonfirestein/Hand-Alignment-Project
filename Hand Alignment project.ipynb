{
 "cells": [
  {
   "cell_type": "markdown",
   "metadata": {},
   "source": [
    "# Harnessing Machine Learning For Interpersonal Physical Alignment\n",
    "\n",
    "### Based on a research paper by Dr. Roi Yozevitch, Dr. Hila Gvirts, Dr. Ornit Apelboim, and Dr. Elhanan Mishraky.\n",
    "##### This work presents a novel way to determine interpersonal physical synchrony state by inspecting hands’ postures obtained from a unique 3D depth camera device named Leap-Motion Controller.\n",
    "\n",
    "Alon Firestein"
   ]
  },
  {
   "cell_type": "code",
   "execution_count": 23,
   "metadata": {},
   "outputs": [],
   "source": [
    "import pandas as pd\n",
    "import numpy as np\n",
    "import matplotlib.pyplot as plt\n",
    "import glob\n",
    "import seaborn as sns\n",
    "from sklearn import tree\n",
    "from sklearn.neighbors import KNeighborsClassifier\n",
    "from sklearn.preprocessing import MinMaxScaler\n",
    "from tensorflow.keras.utils import to_categorical\n",
    "from sklearn.metrics import classification_report, confusion_matrix, accuracy_score\n",
    "from sklearn.svm import LinearSVC\n",
    "from sklearn.preprocessing import StandardScaler\n",
    "from sklearn.pipeline import make_pipeline\n",
    "from sklearn.datasets import make_classification\n",
    "from sklearn.tree import DecisionTreeClassifier\n",
    "from sklearn.linear_model import LogisticRegression\n",
    "from sklearn.ensemble import RandomForestClassifier, RandomForestRegressor\n",
    "from sklearn.model_selection import cross_val_score, train_test_split, StratifiedKFold, KFold\n",
    "from sklearn.ensemble import GradientBoostingClassifier\n",
    "from sklearn import metrics\n",
    "import warnings\n",
    "warnings.filterwarnings('ignore')"
   ]
  },
  {
   "cell_type": "code",
   "execution_count": 24,
   "metadata": {},
   "outputs": [],
   "source": [
    "def combine_rows(df):\n",
    "    cols = df.columns\n",
    "    df = df.groupby(df.index//5)[cols].apply(lambda x: pd.DataFrame(x.values)).unstack().reset_index()\n",
    "    df.columns = df.columns.droplevel()\n",
    "    new_cols = [\"index\"]\n",
    "    for col in cols:\n",
    "        for i in range(5):\n",
    "            new_cols.append(col+str(i)) \n",
    "        \n",
    "    df.columns = new_cols\n",
    "    unimportant_features = [\"index\"]\n",
    "    features = [\"Time\",\"Frame ID\",\"state\",\"Hand Type\",\"# hands\"]\n",
    "    for feat in features:\n",
    "        for i in new_cols:\n",
    "            if feat in i:\n",
    "                df[feat] = df[i]\n",
    "                unimportant_features.append(i)\n",
    "    df = df.drop(unimportant_features,axis=1)\n",
    "    num_features = [x for x in df.columns if x not in features]\n",
    "    df[num_features] = df[num_features].apply(pd.to_numeric)\n",
    "    return df"
   ]
  },
  {
   "cell_type": "code",
   "execution_count": 25,
   "metadata": {},
   "outputs": [],
   "source": [
    "def define_state(filename):\n",
    "    if 'Spontan' in filename:\n",
    "        state = 1\n",
    "    elif 'Sync' in filename:\n",
    "        state = 2\n",
    "    else:\n",
    "        state = 3\n",
    "    return state\n",
    "\n",
    "def handle_right_hand_file(df):\n",
    "    alone_right = pd.read_csv(r\"Unity Data/HandRight.csv\",index_col=None, header=0)\n",
    "    alone_right.rename(columns=lambda x: x.strip(), inplace=True)\n",
    "    alone_right[\"state\"] = 3\n",
    "    return df"
   ]
  },
  {
   "cell_type": "code",
   "execution_count": 26,
   "metadata": {},
   "outputs": [],
   "source": [
    "def combine_datasets(path):\n",
    "    all_files = glob.glob(path)\n",
    "    lst = []\n",
    "    for filename in all_files:\n",
    "        df = pd.read_csv(filename, index_col=None, header=0)\n",
    "        df.rename(columns=lambda x: x.strip(), inplace=True)        \n",
    "        df['state'] = define_state(filename)\n",
    "        start_time = df[\"Time\"].min()\n",
    "        df = df[df[\"Time\"]>start_time+7]\n",
    "        df = combine_rows(df)\n",
    "        df[\"Time\"] = df[\"Time\"].astype(\"float\")\n",
    "        df = df[df['state'].notna()]\n",
    "        df[\"state\"] = df[\"state\"].astype(\"int\")\n",
    "        lst.append(df)\n",
    "        \n",
    "    df = pd.concat(lst, axis=0, ignore_index=True)\n",
    "    df = handle_right_hand_file(df)\n",
    "    \n",
    "    return df"
   ]
  },
  {
   "cell_type": "code",
   "execution_count": 27,
   "metadata": {},
   "outputs": [
    {
     "data": {
      "text/html": [
       "<div>\n",
       "<style scoped>\n",
       "    .dataframe tbody tr th:only-of-type {\n",
       "        vertical-align: middle;\n",
       "    }\n",
       "\n",
       "    .dataframe tbody tr th {\n",
       "        vertical-align: top;\n",
       "    }\n",
       "\n",
       "    .dataframe thead th {\n",
       "        text-align: right;\n",
       "    }\n",
       "</style>\n",
       "<table border=\"1\" class=\"dataframe\">\n",
       "  <thead>\n",
       "    <tr style=\"text-align: right;\">\n",
       "      <th></th>\n",
       "      <th>Position X0</th>\n",
       "      <th>Position X1</th>\n",
       "      <th>Position X2</th>\n",
       "      <th>Position X3</th>\n",
       "      <th>Position X4</th>\n",
       "      <th>Position Y0</th>\n",
       "      <th>Position Y1</th>\n",
       "      <th>Position Y2</th>\n",
       "      <th>Position Y3</th>\n",
       "      <th>Position Y4</th>\n",
       "      <th>...</th>\n",
       "      <th>Pinch Strength0</th>\n",
       "      <th>Pinch Strength1</th>\n",
       "      <th>Pinch Strength2</th>\n",
       "      <th>Pinch Strength3</th>\n",
       "      <th>Pinch Strength4</th>\n",
       "      <th>Time</th>\n",
       "      <th>Frame ID</th>\n",
       "      <th>state</th>\n",
       "      <th>Hand Type</th>\n",
       "      <th># hands</th>\n",
       "    </tr>\n",
       "  </thead>\n",
       "  <tbody>\n",
       "    <tr>\n",
       "      <th>0</th>\n",
       "      <td>-107.2023</td>\n",
       "      <td>200.69760</td>\n",
       "      <td>-112.8274</td>\n",
       "      <td>202.13650</td>\n",
       "      <td>-117.6233</td>\n",
       "      <td>194.5495</td>\n",
       "      <td>316.9962</td>\n",
       "      <td>199.1187</td>\n",
       "      <td>319.0723</td>\n",
       "      <td>201.9223</td>\n",
       "      <td>...</td>\n",
       "      <td>0.0</td>\n",
       "      <td>1.000000</td>\n",
       "      <td>0.000000</td>\n",
       "      <td>1.000000</td>\n",
       "      <td>0.000000</td>\n",
       "      <td>477.5815</td>\n",
       "      <td>144870</td>\n",
       "      <td>2</td>\n",
       "      <td>left</td>\n",
       "      <td>2</td>\n",
       "    </tr>\n",
       "    <tr>\n",
       "      <th>1</th>\n",
       "      <td>156.2055</td>\n",
       "      <td>-97.04962</td>\n",
       "      <td>156.4148</td>\n",
       "      <td>-97.17081</td>\n",
       "      <td>156.5472</td>\n",
       "      <td>164.9383</td>\n",
       "      <td>119.6590</td>\n",
       "      <td>163.8100</td>\n",
       "      <td>117.7113</td>\n",
       "      <td>163.7894</td>\n",
       "      <td>...</td>\n",
       "      <td>0.0</td>\n",
       "      <td>0.000000</td>\n",
       "      <td>0.000000</td>\n",
       "      <td>0.000000</td>\n",
       "      <td>0.000000</td>\n",
       "      <td>394.2714</td>\n",
       "      <td>46005</td>\n",
       "      <td>1</td>\n",
       "      <td>right</td>\n",
       "      <td>2</td>\n",
       "    </tr>\n",
       "    <tr>\n",
       "      <th>2</th>\n",
       "      <td>104.7304</td>\n",
       "      <td>-115.83640</td>\n",
       "      <td>105.6461</td>\n",
       "      <td>-115.66270</td>\n",
       "      <td>106.4900</td>\n",
       "      <td>154.9454</td>\n",
       "      <td>167.1620</td>\n",
       "      <td>157.9461</td>\n",
       "      <td>166.3596</td>\n",
       "      <td>160.9670</td>\n",
       "      <td>...</td>\n",
       "      <td>0.0</td>\n",
       "      <td>0.000000</td>\n",
       "      <td>0.000000</td>\n",
       "      <td>0.000000</td>\n",
       "      <td>0.000000</td>\n",
       "      <td>324.2692</td>\n",
       "      <td>37909</td>\n",
       "      <td>2</td>\n",
       "      <td>right</td>\n",
       "      <td>2</td>\n",
       "    </tr>\n",
       "    <tr>\n",
       "      <th>3</th>\n",
       "      <td>145.1910</td>\n",
       "      <td>-122.66820</td>\n",
       "      <td>145.6862</td>\n",
       "      <td>-124.99410</td>\n",
       "      <td>145.7264</td>\n",
       "      <td>222.0476</td>\n",
       "      <td>214.0030</td>\n",
       "      <td>223.6624</td>\n",
       "      <td>216.0111</td>\n",
       "      <td>223.3507</td>\n",
       "      <td>...</td>\n",
       "      <td>1.0</td>\n",
       "      <td>0.973376</td>\n",
       "      <td>0.904589</td>\n",
       "      <td>0.991065</td>\n",
       "      <td>0.581994</td>\n",
       "      <td>427.4875</td>\n",
       "      <td>49827</td>\n",
       "      <td>1</td>\n",
       "      <td>right</td>\n",
       "      <td>2</td>\n",
       "    </tr>\n",
       "    <tr>\n",
       "      <th>4</th>\n",
       "      <td>-141.5070</td>\n",
       "      <td>-140.38220</td>\n",
       "      <td>-140.6613</td>\n",
       "      <td>-142.22320</td>\n",
       "      <td>-142.7181</td>\n",
       "      <td>237.7053</td>\n",
       "      <td>234.0647</td>\n",
       "      <td>231.0223</td>\n",
       "      <td>227.9846</td>\n",
       "      <td>224.6611</td>\n",
       "      <td>...</td>\n",
       "      <td>0.0</td>\n",
       "      <td>0.000000</td>\n",
       "      <td>0.000000</td>\n",
       "      <td>0.000000</td>\n",
       "      <td>0.000000</td>\n",
       "      <td>276.4540</td>\n",
       "      <td>121697</td>\n",
       "      <td>3</td>\n",
       "      <td>left</td>\n",
       "      <td>1</td>\n",
       "    </tr>\n",
       "  </tbody>\n",
       "</table>\n",
       "<p>5 rows × 95 columns</p>\n",
       "</div>"
      ],
      "text/plain": [
       "   Position X0  Position X1  Position X2  Position X3  Position X4  \\\n",
       "0    -107.2023    200.69760    -112.8274    202.13650    -117.6233   \n",
       "1     156.2055    -97.04962     156.4148    -97.17081     156.5472   \n",
       "2     104.7304   -115.83640     105.6461   -115.66270     106.4900   \n",
       "3     145.1910   -122.66820     145.6862   -124.99410     145.7264   \n",
       "4    -141.5070   -140.38220    -140.6613   -142.22320    -142.7181   \n",
       "\n",
       "   Position Y0  Position Y1  Position Y2  Position Y3  Position Y4  ...  \\\n",
       "0     194.5495     316.9962     199.1187     319.0723     201.9223  ...   \n",
       "1     164.9383     119.6590     163.8100     117.7113     163.7894  ...   \n",
       "2     154.9454     167.1620     157.9461     166.3596     160.9670  ...   \n",
       "3     222.0476     214.0030     223.6624     216.0111     223.3507  ...   \n",
       "4     237.7053     234.0647     231.0223     227.9846     224.6611  ...   \n",
       "\n",
       "   Pinch Strength0  Pinch Strength1  Pinch Strength2  Pinch Strength3  \\\n",
       "0              0.0         1.000000         0.000000         1.000000   \n",
       "1              0.0         0.000000         0.000000         0.000000   \n",
       "2              0.0         0.000000         0.000000         0.000000   \n",
       "3              1.0         0.973376         0.904589         0.991065   \n",
       "4              0.0         0.000000         0.000000         0.000000   \n",
       "\n",
       "   Pinch Strength4      Time  Frame ID  state  Hand Type  # hands  \n",
       "0         0.000000  477.5815    144870      2       left        2  \n",
       "1         0.000000  394.2714     46005      1      right        2  \n",
       "2         0.000000  324.2692     37909      2      right        2  \n",
       "3         0.581994  427.4875     49827      1      right        2  \n",
       "4         0.000000  276.4540    121697      3       left        1  \n",
       "\n",
       "[5 rows x 95 columns]"
      ]
     },
     "execution_count": 27,
     "metadata": {},
     "output_type": "execute_result"
    }
   ],
   "source": [
    "df = combine_datasets(r\"Unity Data/Training/*/*.csv\")\n",
    "df = df.sample(frac=1).reset_index(drop=True)\n",
    "df.head()"
   ]
  },
  {
   "cell_type": "code",
   "execution_count": 28,
   "metadata": {},
   "outputs": [],
   "source": [
    "y = df[\"state\"]\n",
    "x = df.drop([\"Hand Type\",\"# hands\",\"Time\", \"Frame ID\"], axis=1)\n",
    "x_train, x_test, y_train, y_test = train_test_split(x, y, test_size=0.33, random_state=42)"
   ]
  },
  {
   "cell_type": "markdown",
   "metadata": {},
   "source": [
    "# KNN:"
   ]
  },
  {
   "cell_type": "code",
   "execution_count": 29,
   "metadata": {},
   "outputs": [
    {
     "name": "stdout",
     "output_type": "stream",
     "text": [
      "-----------------K-nearest neighbors Report---------------\n",
      "F1 score: 0.8935819334095836\n",
      "Accuracy score: 0.8937963757508455\n",
      "Confusion matrix: \n",
      " [[6689 1302   23]\n",
      " [ 747 7291   16]\n",
      " [   9    7 3727]]\n",
      "              precision    recall  f1-score   support\n",
      "\n",
      "           1       0.90      0.83      0.87      8014\n",
      "           2       0.85      0.91      0.88      8054\n",
      "           3       0.99      1.00      0.99      3743\n",
      "\n",
      "    accuracy                           0.89     19811\n",
      "   macro avg       0.91      0.91      0.91     19811\n",
      "weighted avg       0.90      0.89      0.89     19811\n",
      "\n",
      "Cross Validation Scores: [0.88440025 0.88562904 0.88463451 0.88973148 0.88314272]\n",
      "Cross Validation Scores Mean: 0.8855075982036649 \n",
      "\n"
     ]
    }
   ],
   "source": [
    "knn = KNeighborsClassifier(n_neighbors=5, weights=\"distance\")\n",
    "knn.fit(x_train, y_train)\n",
    "y_pred_knn = knn.predict(x_test)\n",
    "knn_f1 = metrics.f1_score(y_test, y_pred_knn, average= \"weighted\")\n",
    "knn_accuracy = metrics.accuracy_score(y_test, y_pred_knn)\n",
    "knn_cm = metrics.confusion_matrix(y_test, y_pred_knn)\n",
    "print(\"-----------------K-nearest neighbors Report---------------\")\n",
    "print(\"F1 score: {}\".format(knn_f1))\n",
    "print(\"Accuracy score: {}\".format(knn_accuracy))\n",
    "print(\"Confusion matrix: \\n\", knn_cm)\n",
    "print(metrics.classification_report(y_test, y_pred_knn))\n",
    "kf = KFold(n_splits=5,shuffle=True, random_state=123)\n",
    "cv_scores = cross_val_score(knn,x_train,y_train,cv=kf)\n",
    "print(\"Cross Validation Scores:\", cv_scores)\n",
    "print(\"Cross Validation Scores Mean:\", cv_scores.mean(),\"\\n\")"
   ]
  },
  {
   "cell_type": "code",
   "execution_count": 53,
   "metadata": {},
   "outputs": [
    {
     "data": {
      "text/plain": [
       "Text(0.5, 1.08, 'KNN Prediction Heatmap')"
      ]
     },
     "execution_count": 53,
     "metadata": {},
     "output_type": "execute_result"
    },
    {
     "data": {
      "image/png": "[encoded data removed]",
      "text/plain": [
       "<Figure size 432x288 with 2 Axes>"
      ]
     },
     "metadata": {
      "needs_background": "light"
     },
     "output_type": "display_data"
    }
   ],
   "source": [
    "ax=sns.heatmap(confusion_matrix(y_test, y_pred_knn), cmap=\"OrRd\",annot=True, fmt=\"d\")\n",
    "ax.set(ylim=(0, 3))\n",
    "plt.ylabel('Actual label', size = 15)\n",
    "plt.xlabel('Predicted label', size = 15)\n",
    "plt.title('KNN Prediction Heatmap', size = 15, y=1.08, fontweight=\"bold\")"
   ]
  },
  {
   "cell_type": "markdown",
   "metadata": {},
   "source": [
    "# Random Forest:"
   ]
  },
  {
   "cell_type": "code",
   "execution_count": 116,
   "metadata": {},
   "outputs": [
    {
     "name": "stdout",
     "output_type": "stream",
     "text": [
      "--------------------Random Forest------------------\n",
      "F1 score: 0.950835749708399\n",
      "Accuracy score: 0.9509363484932614\n",
      "Confusion matrix: \n",
      " [[7946  114   29]\n",
      " [ 736 7181   26]\n",
      " [  15   52 3712]]\n",
      "              precision    recall  f1-score   support\n",
      "\n",
      "           1       0.91      0.98      0.95      8089\n",
      "           2       0.98      0.90      0.94      7943\n",
      "           3       0.99      0.98      0.98      3779\n",
      "\n",
      "    accuracy                           0.95     19811\n",
      "   macro avg       0.96      0.96      0.96     19811\n",
      "weighted avg       0.95      0.95      0.95     19811\n",
      "\n",
      "Cross Validation Scores: [0.96482287 0.96034311 0.95723521 0.96034311 0.9633267 ]\n",
      "Cross Validation Scores Mean: 0.961214201320951 \n",
      "\n"
     ]
    }
   ],
   "source": [
    "rf=RandomForestClassifier(n_estimators = 100, random_state = 123, max_depth=2)\n",
    "rf.fit(x_train,y_train)\n",
    "y_pred_rf = rf.predict(x_test)\n",
    "rf_f1 = metrics.f1_score(y_test, y_pred_rf, average= \"weighted\")\n",
    "rf_accuracy = metrics.accuracy_score(y_test, y_pred_rf)\n",
    "rf_cm = metrics.confusion_matrix(y_test, y_pred_rf)\n",
    "print(\"--------------------Random Forest------------------\")\n",
    "print(\"F1 score: {}\".format(rf_f1))\n",
    "print(\"Accuracy score: {}\".format(rf_accuracy))\n",
    "print(\"Confusion matrix: \\n\", rf_cm)\n",
    "print(metrics.classification_report(y_test, y_pred_rf))\n",
    "kf = KFold(n_splits=5,shuffle=True, random_state=123)\n",
    "cv_scores = cross_val_score(rf,x_train,y_train,cv=kf)\n",
    "print(\"Cross Validation Scores:\", cv_scores)\n",
    "print(\"Cross Validation Scores Mean:\", cv_scores.mean(),\"\\n\")"
   ]
  },
  {
   "cell_type": "markdown",
   "metadata": {},
   "source": [
    "# Gradient Boosting Classifier:"
   ]
  },
  {
   "cell_type": "code",
   "execution_count": 142,
   "metadata": {},
   "outputs": [
    {
     "name": "stdout",
     "output_type": "stream",
     "text": [
      "Learning rate:  0.05\n",
      "Accuracy score (training): 0.801\n",
      "Accuracy score (testing): 0.778 \n",
      "\n",
      "Learning rate:  0.075\n",
      "Accuracy score (training): 0.856\n",
      "Accuracy score (testing): 0.829 \n",
      "\n",
      "Learning rate:  0.1\n",
      "Accuracy score (training): 0.880\n",
      "Accuracy score (testing): 0.856 \n",
      "\n",
      "Learning rate:  0.25\n",
      "Accuracy score (training): 0.928\n",
      "Accuracy score (testing): 0.900 \n",
      "\n",
      "Learning rate:  0.5\n",
      "Accuracy score (training): 0.954\n",
      "Accuracy score (testing): 0.940 \n",
      "\n",
      "Learning rate:  0.75\n",
      "Accuracy score (training): 0.983\n",
      "Accuracy score (testing): 0.969 \n",
      "\n",
      "Learning rate:  1\n",
      "Accuracy score (training): 0.990\n",
      "Accuracy score (testing): 0.977 \n",
      "\n"
     ]
    }
   ],
   "source": [
    "scaler = MinMaxScaler()\n",
    "x_train = scaler.fit_transform(x_train)\n",
    "x_test = scaler.transform(x_test)\n",
    "x_train, x_test, y_train, y_test = train_test_split(x_train, y_train, test_size=0.33, random_state=12)\n",
    "lr_list = [0.05, 0.075, 0.1, 0.25, 0.5, 0.75, 1]\n",
    "\n",
    "for learning_rate in lr_list:\n",
    "    gb_clf = GradientBoostingClassifier(n_estimators=20, learning_rate=learning_rate, max_features=2, max_depth=2, random_state=0)\n",
    "    gb_clf.fit(x_train, y_train)\n",
    "\n",
    "    print(\"Learning rate: \", learning_rate)\n",
    "    print(\"Accuracy score (training): {0:.3f}\".format(gb_clf.score(x_train, y_train)))\n",
    "    print(\"Accuracy score (testing): {0:.3f}\".format(gb_clf.score(x_test, y_test)),\"\\n\")"
   ]
  },
  {
   "cell_type": "code",
   "execution_count": 145,
   "metadata": {},
   "outputs": [
    {
     "name": "stdout",
     "output_type": "stream",
     "text": [
      "--------------------Gradient Boosting------------------\n",
      "F1 score: 0.9772066378565647\n",
      "Accuracy score: 0.9771962616822429\n",
      "Confusion matrix: \n",
      " [[1048   35    1]\n",
      " [  17 1056    3]\n",
      " [   1    4  510]]\n",
      "              precision    recall  f1-score   support\n",
      "\n",
      "           1       0.98      0.97      0.97      1084\n",
      "           2       0.96      0.98      0.97      1076\n",
      "           3       0.99      0.99      0.99       515\n",
      "\n",
      "    accuracy                           0.98      2675\n",
      "   macro avg       0.98      0.98      0.98      2675\n",
      "weighted avg       0.98      0.98      0.98      2675\n",
      "\n",
      "Cross Validation Scores: [0.98526703 0.97697974 0.97790055 0.97882136 0.97695853]\n",
      "Cross Validation Scores Mean: 0.9791854435589956 \n",
      "\n"
     ]
    }
   ],
   "source": [
    "gb_clf2 = GradientBoostingClassifier(n_estimators=20, learning_rate=1, max_features=2, max_depth=2, random_state=0)\n",
    "gb_clf2.fit(x_train, y_train)\n",
    "y_pred_gb_clf2 = gb_clf2.predict(x_test)\n",
    "gb_clf2_f1 = metrics.f1_score(y_test, y_pred_gb_clf2, average= \"weighted\")\n",
    "gb_clf2_accuracy = metrics.accuracy_score(y_test, y_pred_gb_clf2)\n",
    "gb_clf2_cm = metrics.confusion_matrix(y_test, y_pred_gb_clf2)\n",
    "print(\"--------------------Gradient Boosting------------------\")\n",
    "print(\"F1 score: {}\".format(gb_clf2_f1))\n",
    "print(\"Accuracy score: {}\".format(gb_clf2_accuracy))\n",
    "print(\"Confusion matrix: \\n\", gb_clf2_cm)\n",
    "print(metrics.classification_report(y_test, y_pred_gb_clf2))\n",
    "kf = KFold(n_splits=5,shuffle=True, random_state=123)\n",
    "cv_scores = cross_val_score(gb_clf2,x_train,y_train,cv=kf)\n",
    "print(\"Cross Validation Scores:\", cv_scores)\n",
    "print(\"Cross Validation Scores Mean:\", cv_scores.mean(),\"\\n\")"
   ]
  },
  {
   "cell_type": "markdown",
   "metadata": {},
   "source": [
    "# Linear Support Vector Classification:"
   ]
  },
  {
   "cell_type": "code",
   "execution_count": 209,
   "metadata": {},
   "outputs": [
    {
     "name": "stdout",
     "output_type": "stream",
     "text": [
      "---------------Linear SVC-------------\n",
      "F1 score: 0.9914137749626374\n",
      "Accuracy score: 0.991418908687093\n",
      "Confusion matrix: \n",
      " [[8045   44    0]\n",
      " [   0 7924   19]\n",
      " [   0  107 3672]]\n",
      "              precision    recall  f1-score   support\n",
      "\n",
      "           1       1.00      0.99      1.00      8089\n",
      "           2       0.98      1.00      0.99      7943\n",
      "           3       0.99      0.97      0.98      3779\n",
      "\n",
      "    accuracy                           0.99     19811\n",
      "   macro avg       0.99      0.99      0.99     19811\n",
      "weighted avg       0.99      0.99      0.99     19811\n",
      "\n",
      "Cross Validation Scores: [0.99042884 0.99254102 0.9908006  0.99154649 0.99316261]\n",
      "Cross Validation Scores Mean: 0.9916959117643515 \n",
      "\n"
     ]
    }
   ],
   "source": [
    "svc_clf = make_pipeline(StandardScaler(),LinearSVC(random_state=42))\n",
    "svc_clf.fit(x, y)\n",
    "y_pred_svc_clf = svc_clf.predict(x_test)\n",
    "svc_clf_f1 = metrics.f1_score(y_test, y_pred_svc_clf, average= \"weighted\")\n",
    "svc_clf_accuracy = metrics.accuracy_score(y_test, y_pred_svc_clf)\n",
    "svc_clf_cm = metrics.confusion_matrix(y_test, y_pred_svc_clf)\n",
    "print(\"---------------Linear SVC-------------\")\n",
    "print(\"F1 score: {}\".format(svc_clf_f1))\n",
    "print(\"Accuracy score: {}\".format(svc_clf_accuracy))\n",
    "print(\"Confusion matrix: \\n\", svc_clf_cm)\n",
    "print(metrics.classification_report(y_test, y_pred_svc_clf))\n",
    "kf = KFold(n_splits=5,shuffle=True, random_state=123)\n",
    "cv_scores = cross_val_score(svc_clf,x_train,y_train,cv=kf)\n",
    "print(\"Cross Validation Scores:\", cv_scores)\n",
    "print(\"Cross Validation Scores Mean:\", cv_scores.mean(),\"\\n\")"
   ]
  },
  {
   "cell_type": "markdown",
   "metadata": {},
   "source": [
    "# Logistic Regression:"
   ]
  },
  {
   "cell_type": "code",
   "execution_count": 222,
   "metadata": {},
   "outputs": [
    {
     "name": "stdout",
     "output_type": "stream",
     "text": [
      "-------------Logistic Regression-------------\n",
      "F1 score: 0.9097067550670614\n",
      "Accuracy score: 0.9097471101913078\n",
      "Confusion matrix: \n",
      " [[7515  538   36]\n",
      " [1065 6845   33]\n",
      " [  40   76 3663]]\n",
      "              precision    recall  f1-score   support\n",
      "\n",
      "           1       0.87      0.93      0.90      8089\n",
      "           2       0.92      0.86      0.89      7943\n",
      "           3       0.98      0.97      0.98      3779\n",
      "\n",
      "    accuracy                           0.91     19811\n",
      "   macro avg       0.92      0.92      0.92     19811\n",
      "weighted avg       0.91      0.91      0.91     19811\n",
      "\n",
      "Cross Validation Scores: [0.91746426 0.93920935 0.94567379 0.93050721 0.93983093]\n",
      "Cross Validation Scores Mean: 0.9345371092923044 \n",
      "\n"
     ]
    }
   ],
   "source": [
    "lr = LogisticRegression(random_state=0)\n",
    "lr.fit(x, y)\n",
    "y_pred_lr = lr.predict(x_test)\n",
    "lr_f1 = metrics.f1_score(y_test, y_pred_lr, average= \"weighted\")\n",
    "lr_accuracy = metrics.accuracy_score(y_test, y_pred_lr)\n",
    "lr_cm = metrics.confusion_matrix(y_test, y_pred_lr)\n",
    "print(\"-------------Logistic Regression-------------\")\n",
    "print(\"F1 score: {}\".format(lr_f1))\n",
    "print(\"Accuracy score: {}\".format(lr_accuracy))\n",
    "print(\"Confusion matrix: \\n\", lr_cm)\n",
    "print(metrics.classification_report(y_test, y_pred_lr))\n",
    "kf = KFold(n_splits=5,shuffle=True, random_state=123)\n",
    "cv_scores = cross_val_score(lr, x_train, y_train, cv=kf)\n",
    "print(\"Cross Validation Scores:\", cv_scores)\n",
    "print(\"Cross Validation Scores Mean:\", cv_scores.mean(),\"\\n\")"
   ]
  },
  {
   "cell_type": "markdown",
   "metadata": {},
   "source": [
    "# Validation:"
   ]
  },
  {
   "cell_type": "code",
   "execution_count": 229,
   "metadata": {},
   "outputs": [],
   "source": [
    "test_df = combine_datasets(r\"Unity Data/Validation/*/*.csv\")\n",
    "test_df = test_df.dropna()\n",
    "y = test_df[\"state\"]\n",
    "x = test_df.drop([\"Frame ID\",\"state\",\"Hand Type\",\"# hands\"], axis=1)\n",
    "kfold = StratifiedKFold(n_splits=10, shuffle=True, random_state=93)"
   ]
  },
  {
   "cell_type": "code",
   "execution_count": 192,
   "metadata": {},
   "outputs": [
    {
     "name": "stdout",
     "output_type": "stream",
     "text": [
      "K-nearest neighbors:\n",
      "0.96% (+/- 0.00%)\n"
     ]
    }
   ],
   "source": [
    "print(\"K-nearest neighbors:\")\n",
    "print(\"%.2f%% (+/- %.2f%%)\" % (np.mean(cross_val_score(knn, x, y, cv=kfold,n_jobs=-1)), np.std(cross_val_score(knn, x, y, cv=kfold,n_jobs=-1))))"
   ]
  },
  {
   "cell_type": "code",
   "execution_count": 193,
   "metadata": {},
   "outputs": [
    {
     "name": "stdout",
     "output_type": "stream",
     "text": [
      "Random Forest:\n",
      "0.80% (+/- 0.01%)\n"
     ]
    }
   ],
   "source": [
    "print(\"Random Forest:\")\n",
    "print(\"%.2f%% (+/- %.2f%%)\" % (np.mean(cross_val_score(rf, x, y, cv=kfold,n_jobs=-1)), np.std(cross_val_score(rf, x, y, cv=kfold,n_jobs=-1))))"
   ]
  },
  {
   "cell_type": "code",
   "execution_count": 194,
   "metadata": {},
   "outputs": [
    {
     "name": "stdout",
     "output_type": "stream",
     "text": [
      "Gradient Boosting:\n",
      "0.93% (+/- 0.01%)\n"
     ]
    }
   ],
   "source": [
    "print(\"Gradient Boosting:\")\n",
    "print(\"%.2f%% (+/- %.2f%%)\" % (np.mean(cross_val_score(gb_clf2, x, y, cv=kfold,n_jobs=-1)), np.std(cross_val_score(gb_clf2, x, y, cv=kfold,n_jobs=-1))))"
   ]
  },
  {
   "cell_type": "code",
   "execution_count": 210,
   "metadata": {},
   "outputs": [
    {
     "name": "stdout",
     "output_type": "stream",
     "text": [
      "Linear SVC:\n",
      "0.99% (+/- 0.00%)\n"
     ]
    }
   ],
   "source": [
    "print(\"Linear SVC:\")\n",
    "print(\"%.2f%% (+/- %.2f%%)\" % (np.mean(cross_val_score(svc_clf, x, y, cv=kfold,n_jobs=-1)), np.std(cross_val_score(svc_clf, x, y, cv=kfold,n_jobs=-1))))"
   ]
  },
  {
   "cell_type": "code",
   "execution_count": 231,
   "metadata": {},
   "outputs": [
    {
     "name": "stdout",
     "output_type": "stream",
     "text": [
      "Logistic Regression:\n",
      "0.83% (+/- 0.00%)\n"
     ]
    }
   ],
   "source": [
    "print(\"Logistic Regression:\")\n",
    "print(\"%.2f%% (+/- %.2f%%)\" % (np.mean(cross_val_score(lr, x, y, cv=kfold)), np.std(cross_val_score(lr, x, y, cv=kfold))))"
   ]
  },
  {
   "cell_type": "code",
   "execution_count": 54,
   "metadata": {},
   "outputs": [
    {
     "data": {
      "image/png": "[encoded data removed]",
      "text/plain": [
       "<Figure size 576x576 with 1 Axes>"
      ]
     },
     "metadata": {
      "needs_background": "light"
     },
     "output_type": "display_data"
    }
   ],
   "source": [
    "labels = ['KNN', 'Random Forest', 'Gradient Boosting','Linear SVC', 'Logistic Regression']\n",
    "training_scores = [0.89, 0.95, 0.97, 0.99, 0.90]\n",
    "testing_scores = [0.96, 0.80, 0.93, 0.99, 0.83]\n",
    "\n",
    "x = np.arange(len(labels))\n",
    "width = 0.35  \n",
    "fig, ax = plt.subplots(figsize=(8,8))\n",
    "rects1 = ax.bar(x - width/2, training_scores, width, color='c')\n",
    "rects2 = ax.bar(x + width/2, testing_scores, width, color='lightslategrey')\n",
    "ax.set_title('Training and Testing Comparisson', fontweight=\"bold\")\n",
    "ax.set_xlabel('Model Name', fontweight=\"bold\")\n",
    "ax.set_ylabel('Accuaracy %', fontweight=\"bold\")\n",
    "ax.set_xticks(x)\n",
    "ax.set_xticklabels(labels)\n",
    "plt.legend(['Training', 'Testing'], loc='best')\n",
    "plt.xticks(rotation=45)\n",
    "def autolabel(rects):\n",
    "    for rect in rects:\n",
    "        height = rect.get_height()\n",
    "        ax.annotate('{}'.format(height),\n",
    "                    xy=(rect.get_x() + rect.get_width() / 2, height),\n",
    "                    xytext=(0, 3), \n",
    "                    textcoords=\"offset points\",\n",
    "                    ha='center', va='bottom')\n",
    "autolabel(rects1)\n",
    "autolabel(rects2)\n",
    "plt.tight_layout()\n",
    "plt.show()"
   ]
  }
 ],
 "metadata": {
  "kernelspec": {
   "display_name": "Python 3",
   "language": "python",
   "name": "python3"
  },
  "language_info": {
   "codemirror_mode": {
    "name": "ipython",
    "version": 3
   },
   "file_extension": ".py",
   "mimetype": "text/x-python",
   "name": "python",
   "nbconvert_exporter": "python",
   "pygments_lexer": "ipython3",
   "version": "3.7.4"
  }
 },
 "nbformat": 4,
 "nbformat_minor": 2
}
