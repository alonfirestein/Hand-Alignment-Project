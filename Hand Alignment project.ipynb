{
 "cells": [
  {
   "cell_type": "markdown",
   "metadata": {},
   "source": [
    "# Harnessing Machine Learning For Interpersonal Physical Alignment\n",
    "\n",
    "### Based on a research paper by Dr. Roi Yozevitch, Dr. Hila Gvirts, Dr. Ornit Apelboim, and Dr. Elhanan Mishraky.\n",
    "##### This work presents a novel way to determine interpersonal physical synchrony state by inspecting hands’ postures obtained from a unique 3D depth camera device named Leap-Motion Controller.\n",
    "\n",
    "Alon Firestein"
   ]
  },
  {
   "cell_type": "code",
   "execution_count": 26,
   "metadata": {},
   "outputs": [],
   "source": [
    "import pandas as pd\n",
    "import numpy as np\n",
    "import matplotlib.pyplot as plt\n",
    "import glob\n",
    "import seaborn as sns\n",
    "from sklearn import tree\n",
    "from sklearn.neighbors import KNeighborsClassifier\n",
    "from sklearn.preprocessing import MinMaxScaler\n",
    "from tensorflow.keras.utils import to_categorical\n",
    "from sklearn.metrics import classification_report, confusion_matrix, accuracy_score\n",
    "from sklearn.svm import LinearSVC\n",
    "from sklearn.preprocessing import StandardScaler\n",
    "from sklearn.pipeline import make_pipeline\n",
    "from sklearn.datasets import make_classification\n",
    "from sklearn.tree import DecisionTreeClassifier\n",
    "from sklearn.linear_model import LogisticRegression\n",
    "from sklearn.ensemble import RandomForestClassifier, RandomForestRegressor\n",
    "from sklearn.model_selection import cross_val_score, train_test_split, KFold, StratifiedKFold\n",
    "from sklearn.ensemble import GradientBoostingClassifier\n",
    "from sklearn import metrics\n",
    "import warnings\n",
    "warnings.filterwarnings('ignore')"
   ]
  },
  {
   "cell_type": "code",
   "execution_count": null,
   "metadata": {},
   "outputs": [],
   "source": [
    "def hand_right_file(df):\n",
    "    alone_right = pd.read_csv(r\"Unity Data/HandRight.csv\",index_col=None, header=0)\n",
    "    alone_right.rename(columns=lambda x: x.strip(), inplace=True)\n",
    "    alone_right[\"state\"] = 3\n",
    "    return df"
   ]
  },
  {
   "cell_type": "code",
   "execution_count": 28,
   "metadata": {},
   "outputs": [],
   "source": [
    "def define_state(filename):\n",
    "    if 'Spontan' in filename:\n",
    "        state = 1\n",
    "    elif 'Sync' in filename:\n",
    "        state = 2\n",
    "    else:\n",
    "        state = 3\n",
    "    return state"
   ]
  },
  {
   "cell_type": "code",
   "execution_count": 27,
   "metadata": {},
   "outputs": [],
   "source": [
    "def combine_rows(df):\n",
    "    cols = df.columns\n",
    "    df = df.groupby(df.index//5)[cols].apply(lambda x: pd.DataFrame(x.values)).unstack().reset_index()\n",
    "    df.columns = df.columns.droplevel()\n",
    "    new_cols = [\"index\"]\n",
    "    for col in cols:\n",
    "        for i in range(5):\n",
    "            new_cols.append(col+str(i)) \n",
    "        \n",
    "    df.columns = new_cols\n",
    "    unimportant_features = [\"index\"]\n",
    "    features = [\"Time\",\"Frame ID\",\"state\",\"Hand Type\",\"# hands\"]\n",
    "    for feat in features:\n",
    "        for i in new_cols:\n",
    "            if feat in i:\n",
    "                df[feat] = df[i]\n",
    "                unimportant_features.append(i)\n",
    "    df = df.drop(unimportant_features,axis=1)\n",
    "    num_features = [x for x in df.columns if x not in features]\n",
    "    df[num_features] = df[num_features].apply(pd.to_numeric)\n",
    "    return df"
   ]
  },
  {
   "cell_type": "code",
   "execution_count": 29,
   "metadata": {},
   "outputs": [],
   "source": [
    "def combine_datasets(path):\n",
    "    all_files = glob.glob(path)\n",
    "    lst = []\n",
    "    for filename in all_files:\n",
    "        df = pd.read_csv(filename, index_col=None, header=0)\n",
    "        df.rename(columns=lambda x: x.strip(), inplace=True)        \n",
    "        df['state'] = define_state(filename)\n",
    "        start_time = df[\"Time\"].min()\n",
    "        df = df[df[\"Time\"]>start_time+7]\n",
    "        df = combine_rows(df)\n",
    "        df[\"Time\"] = df[\"Time\"].astype(\"float\")\n",
    "        df = df[df['state'].notna()]\n",
    "        df[\"state\"] = df[\"state\"].astype(\"int\")\n",
    "        lst.append(df)\n",
    "        \n",
    "    df = pd.concat(lst, axis=0, ignore_index=True)\n",
    "    df = hand_right_file(df)\n",
    "    \n",
    "    return df"
   ]
  },
  {
   "cell_type": "markdown",
   "metadata": {},
   "source": [
    "**A Quick Look At The Data:** \n",
    "\n",
    "In addition, shuffling the data so it won't be organized by the time feature."
   ]
  },
  {
   "cell_type": "code",
   "execution_count": 30,
   "metadata": {},
   "outputs": [
    {
     "data": {
      "text/html": [
       "<div>\n",
       "<style scoped>\n",
       "    .dataframe tbody tr th:only-of-type {\n",
       "        vertical-align: middle;\n",
       "    }\n",
       "\n",
       "    .dataframe tbody tr th {\n",
       "        vertical-align: top;\n",
       "    }\n",
       "\n",
       "    .dataframe thead th {\n",
       "        text-align: right;\n",
       "    }\n",
       "</style>\n",
       "<table border=\"1\" class=\"dataframe\">\n",
       "  <thead>\n",
       "    <tr style=\"text-align: right;\">\n",
       "      <th></th>\n",
       "      <th>Position X0</th>\n",
       "      <th>Position X1</th>\n",
       "      <th>Position X2</th>\n",
       "      <th>Position X3</th>\n",
       "      <th>Position X4</th>\n",
       "      <th>Position Y0</th>\n",
       "      <th>Position Y1</th>\n",
       "      <th>Position Y2</th>\n",
       "      <th>Position Y3</th>\n",
       "      <th>Position Y4</th>\n",
       "      <th>...</th>\n",
       "      <th>Pinch Strength0</th>\n",
       "      <th>Pinch Strength1</th>\n",
       "      <th>Pinch Strength2</th>\n",
       "      <th>Pinch Strength3</th>\n",
       "      <th>Pinch Strength4</th>\n",
       "      <th>Time</th>\n",
       "      <th>Frame ID</th>\n",
       "      <th>state</th>\n",
       "      <th>Hand Type</th>\n",
       "      <th># hands</th>\n",
       "    </tr>\n",
       "  </thead>\n",
       "  <tbody>\n",
       "    <tr>\n",
       "      <th>0</th>\n",
       "      <td>141.25730</td>\n",
       "      <td>-106.22360</td>\n",
       "      <td>140.98040</td>\n",
       "      <td>-105.86100</td>\n",
       "      <td>140.97160</td>\n",
       "      <td>218.4499</td>\n",
       "      <td>159.3135</td>\n",
       "      <td>218.1585</td>\n",
       "      <td>155.5222</td>\n",
       "      <td>218.0482</td>\n",
       "      <td>...</td>\n",
       "      <td>0.0</td>\n",
       "      <td>0.0</td>\n",
       "      <td>0.0</td>\n",
       "      <td>0.0</td>\n",
       "      <td>0.0</td>\n",
       "      <td>405.3711</td>\n",
       "      <td>47283</td>\n",
       "      <td>1</td>\n",
       "      <td>right</td>\n",
       "      <td>2</td>\n",
       "    </tr>\n",
       "    <tr>\n",
       "      <th>1</th>\n",
       "      <td>-86.74918</td>\n",
       "      <td>105.48010</td>\n",
       "      <td>-87.52326</td>\n",
       "      <td>106.36010</td>\n",
       "      <td>-87.83273</td>\n",
       "      <td>169.7400</td>\n",
       "      <td>171.2553</td>\n",
       "      <td>169.7032</td>\n",
       "      <td>173.8829</td>\n",
       "      <td>170.4878</td>\n",
       "      <td>...</td>\n",
       "      <td>0.0</td>\n",
       "      <td>0.0</td>\n",
       "      <td>0.0</td>\n",
       "      <td>0.0</td>\n",
       "      <td>0.0</td>\n",
       "      <td>499.2844</td>\n",
       "      <td>147370</td>\n",
       "      <td>2</td>\n",
       "      <td>left</td>\n",
       "      <td>2</td>\n",
       "    </tr>\n",
       "    <tr>\n",
       "      <th>2</th>\n",
       "      <td>22.90397</td>\n",
       "      <td>-223.59840</td>\n",
       "      <td>19.83650</td>\n",
       "      <td>-224.52150</td>\n",
       "      <td>18.29163</td>\n",
       "      <td>238.1450</td>\n",
       "      <td>234.5092</td>\n",
       "      <td>232.3260</td>\n",
       "      <td>235.0356</td>\n",
       "      <td>229.4931</td>\n",
       "      <td>...</td>\n",
       "      <td>0.0</td>\n",
       "      <td>0.0</td>\n",
       "      <td>0.0</td>\n",
       "      <td>0.0</td>\n",
       "      <td>0.0</td>\n",
       "      <td>768.2042</td>\n",
       "      <td>88615</td>\n",
       "      <td>2</td>\n",
       "      <td>right</td>\n",
       "      <td>2</td>\n",
       "    </tr>\n",
       "    <tr>\n",
       "      <th>3</th>\n",
       "      <td>-44.40344</td>\n",
       "      <td>95.08951</td>\n",
       "      <td>-44.01985</td>\n",
       "      <td>96.24423</td>\n",
       "      <td>-44.09611</td>\n",
       "      <td>273.4387</td>\n",
       "      <td>235.0666</td>\n",
       "      <td>268.3736</td>\n",
       "      <td>244.4534</td>\n",
       "      <td>261.7206</td>\n",
       "      <td>...</td>\n",
       "      <td>0.0</td>\n",
       "      <td>0.0</td>\n",
       "      <td>0.0</td>\n",
       "      <td>0.0</td>\n",
       "      <td>0.0</td>\n",
       "      <td>631.0759</td>\n",
       "      <td>73415</td>\n",
       "      <td>1</td>\n",
       "      <td>left</td>\n",
       "      <td>2</td>\n",
       "    </tr>\n",
       "    <tr>\n",
       "      <th>4</th>\n",
       "      <td>114.58060</td>\n",
       "      <td>-71.19054</td>\n",
       "      <td>114.38650</td>\n",
       "      <td>-68.61974</td>\n",
       "      <td>115.01370</td>\n",
       "      <td>220.3367</td>\n",
       "      <td>185.5689</td>\n",
       "      <td>218.9242</td>\n",
       "      <td>184.4400</td>\n",
       "      <td>218.5652</td>\n",
       "      <td>...</td>\n",
       "      <td>0.0</td>\n",
       "      <td>0.0</td>\n",
       "      <td>0.0</td>\n",
       "      <td>0.0</td>\n",
       "      <td>0.0</td>\n",
       "      <td>305.7440</td>\n",
       "      <td>35963</td>\n",
       "      <td>1</td>\n",
       "      <td>right</td>\n",
       "      <td>2</td>\n",
       "    </tr>\n",
       "  </tbody>\n",
       "</table>\n",
       "<p>5 rows × 95 columns</p>\n",
       "</div>"
      ],
      "text/plain": [
       "   Position X0  Position X1  Position X2  Position X3  Position X4  \\\n",
       "0    141.25730   -106.22360    140.98040   -105.86100    140.97160   \n",
       "1    -86.74918    105.48010    -87.52326    106.36010    -87.83273   \n",
       "2     22.90397   -223.59840     19.83650   -224.52150     18.29163   \n",
       "3    -44.40344     95.08951    -44.01985     96.24423    -44.09611   \n",
       "4    114.58060    -71.19054    114.38650    -68.61974    115.01370   \n",
       "\n",
       "   Position Y0  Position Y1  Position Y2  Position Y3  Position Y4  ...  \\\n",
       "0     218.4499     159.3135     218.1585     155.5222     218.0482  ...   \n",
       "1     169.7400     171.2553     169.7032     173.8829     170.4878  ...   \n",
       "2     238.1450     234.5092     232.3260     235.0356     229.4931  ...   \n",
       "3     273.4387     235.0666     268.3736     244.4534     261.7206  ...   \n",
       "4     220.3367     185.5689     218.9242     184.4400     218.5652  ...   \n",
       "\n",
       "   Pinch Strength0  Pinch Strength1  Pinch Strength2  Pinch Strength3  \\\n",
       "0              0.0              0.0              0.0              0.0   \n",
       "1              0.0              0.0              0.0              0.0   \n",
       "2              0.0              0.0              0.0              0.0   \n",
       "3              0.0              0.0              0.0              0.0   \n",
       "4              0.0              0.0              0.0              0.0   \n",
       "\n",
       "   Pinch Strength4      Time  Frame ID  state  Hand Type  # hands  \n",
       "0              0.0  405.3711     47283      1      right        2  \n",
       "1              0.0  499.2844    147370      2       left        2  \n",
       "2              0.0  768.2042     88615      2      right        2  \n",
       "3              0.0  631.0759     73415      1       left        2  \n",
       "4              0.0  305.7440     35963      1      right        2  \n",
       "\n",
       "[5 rows x 95 columns]"
      ]
     },
     "execution_count": 30,
     "metadata": {},
     "output_type": "execute_result"
    }
   ],
   "source": [
    "df = combine_datasets(r\"Unity Data/Training/*/*.csv\")\n",
    "df = df.sample(frac=1).reset_index(drop=True)\n",
    "df.head()"
   ]
  },
  {
   "cell_type": "markdown",
   "metadata": {},
   "source": [
    "## **Splitting the data - training & testing sets**"
   ]
  },
  {
   "cell_type": "code",
   "execution_count": 55,
   "metadata": {},
   "outputs": [],
   "source": [
    "y = df[\"state\"]\n",
    "x = df.drop([\"Hand Type\",\"# hands\",\"Time\", \"Frame ID\", \"state\"], axis=1)\n",
    "x_train, x_test, y_train, y_test = train_test_split(x, y, test_size=0.33, random_state=42)"
   ]
  },
  {
   "cell_type": "markdown",
   "metadata": {},
   "source": [
    "# KNN:\n",
    "\n",
    "Plotting to find the best k value to use in the model"
   ]
  },
  {
   "cell_type": "code",
   "execution_count": 7,
   "metadata": {},
   "outputs": [
    {
     "data": {
      "image/png": "[encoded data removed]",
      "text/plain": [
       "<Figure size 432x288 with 1 Axes>"
      ]
     },
     "metadata": {
      "needs_background": "light"
     },
     "output_type": "display_data"
    }
   ],
   "source": [
    "score_list=[]\n",
    "for i in range(1,10):\n",
    "    knnPlot=KNeighborsClassifier(n_neighbors=i)\n",
    "    knnPlot.fit(x_train,y_train)\n",
    "    score_list.append(knnPlot.score(x_test,y_test))\n",
    "\n",
    "plt.plot(range(1,10),score_list)\n",
    "plt.xlabel('#K - values', fontweight=\"bold\")\n",
    "plt.ylabel('Accuracy', fontweight=\"bold\")\n",
    "plt.show()"
   ]
  },
  {
   "cell_type": "code",
   "execution_count": 8,
   "metadata": {},
   "outputs": [
    {
     "name": "stdout",
     "output_type": "stream",
     "text": [
      "-----------------K-nearest neighbors Report---------------\n",
      "F1 score: 0.8998216141254509\n",
      "Accuracy score: 0.9000555247084953\n",
      "Confusion matrix: \n",
      " [[6798 1251   23]\n",
      " [ 673 7375   24]\n",
      " [   4    5 3658]]\n",
      "              precision    recall  f1-score   support\n",
      "\n",
      "           1       0.91      0.84      0.87      8072\n",
      "           2       0.85      0.91      0.88      8072\n",
      "           3       0.99      1.00      0.99      3667\n",
      "\n",
      "    accuracy                           0.90     19811\n",
      "   macro avg       0.92      0.92      0.92     19811\n",
      "weighted avg       0.90      0.90      0.90     19811\n",
      "\n",
      "Cross Validation Scores: [0.90366687 0.89271507 0.89346096 0.89420686 0.89420686]\n",
      "Cross Validation Scores Mean: 0.8956513260349619 \n",
      "\n"
     ]
    }
   ],
   "source": [
    "knn = KNeighborsClassifier(n_neighbors=4, weights=\"distance\")\n",
    "knn.fit(x_train, y_train)\n",
    "y_pred_knn = knn.predict(x_test)\n",
    "knn_f1 = metrics.f1_score(y_test, y_pred_knn, average= \"weighted\")\n",
    "knn_accuracy = metrics.accuracy_score(y_test, y_pred_knn)\n",
    "knn_cm = metrics.confusion_matrix(y_test, y_pred_knn)\n",
    "print(\"-----------------K-nearest neighbors Report---------------\")\n",
    "print(\"F1 score: {}\".format(knn_f1))\n",
    "print(\"Accuracy score: {}\".format(knn_accuracy))\n",
    "print(\"Confusion matrix: \\n\", knn_cm)\n",
    "print(metrics.classification_report(y_test, y_pred_knn))\n",
    "kf = KFold(n_splits=5,shuffle=True, random_state=123)\n",
    "cv_scores = cross_val_score(knn,x_test,y_test,cv=kf)\n",
    "print(\"Cross Validation Scores:\", cv_scores)\n",
    "print(\"Cross Validation Scores Mean:\", cv_scores.mean(),\"\\n\")"
   ]
  },
  {
   "cell_type": "code",
   "execution_count": 53,
   "metadata": {},
   "outputs": [
    {
     "data": {
      "text/plain": [
       "Text(0.5, 1.08, 'KNN Prediction Heatmap')"
      ]
     },
     "execution_count": 53,
     "metadata": {},
     "output_type": "execute_result"
    },
    {
     "data": {
      "image/png": "[encoded data removed]",
      "text/plain": [
       "<Figure size 432x288 with 2 Axes>"
      ]
     },
     "metadata": {
      "needs_background": "light"
     },
     "output_type": "display_data"
    }
   ],
   "source": [
    "ax=sns.heatmap(confusion_matrix(y_test, y_pred_knn), cmap=\"OrRd\",annot=True, fmt=\"d\")\n",
    "ax.set(ylim=(0, 3))\n",
    "plt.ylabel('Actual label', size = 15)\n",
    "plt.xlabel('Predicted label', size = 15)\n",
    "plt.title('KNN Prediction Heatmap', size = 15, y=1.08, fontweight=\"bold\")"
   ]
  },
  {
   "cell_type": "markdown",
   "metadata": {},
   "source": [
    "# Random Forest:"
   ]
  },
  {
   "cell_type": "code",
   "execution_count": 116,
   "metadata": {},
   "outputs": [
    {
     "name": "stdout",
     "output_type": "stream",
     "text": [
      "--------------------Random Forest------------------\n",
      "F1 score: 0.950835749708399\n",
      "Accuracy score: 0.9509363484932614\n",
      "Confusion matrix: \n",
      " [[7946  114   29]\n",
      " [ 736 7181   26]\n",
      " [  15   52 3712]]\n",
      "              precision    recall  f1-score   support\n",
      "\n",
      "           1       0.91      0.98      0.95      8089\n",
      "           2       0.98      0.90      0.94      7943\n",
      "           3       0.99      0.98      0.98      3779\n",
      "\n",
      "    accuracy                           0.95     19811\n",
      "   macro avg       0.96      0.96      0.96     19811\n",
      "weighted avg       0.95      0.95      0.95     19811\n",
      "\n",
      "Cross Validation Scores: [0.96482287 0.96034311 0.95723521 0.96034311 0.9633267 ]\n",
      "Cross Validation Scores Mean: 0.961214201320951 \n",
      "\n"
     ]
    }
   ],
   "source": [
    "rf=RandomForestClassifier(n_estimators = 100, random_state = 123, max_depth=2)\n",
    "rf.fit(x_train,y_train)\n",
    "y_pred_rf = rf.predict(x_test)\n",
    "rf_f1 = metrics.f1_score(y_test, y_pred_rf, average= \"weighted\")\n",
    "rf_accuracy = metrics.accuracy_score(y_test, y_pred_rf)\n",
    "rf_cm = metrics.confusion_matrix(y_test, y_pred_rf)\n",
    "print(\"--------------------Random Forest------------------\")\n",
    "print(\"F1 score: {}\".format(rf_f1))\n",
    "print(\"Accuracy score: {}\".format(rf_accuracy))\n",
    "print(\"Confusion matrix: \\n\", rf_cm)\n",
    "print(metrics.classification_report(y_test, y_pred_rf))\n",
    "kf = KFold(n_splits=5,shuffle=True, random_state=123)\n",
    "cv_scores = cross_val_score(rf,x_test,y_test,cv=kf)\n",
    "print(\"Cross Validation Scores:\", cv_scores)\n",
    "print(\"Cross Validation Scores Mean:\", cv_scores.mean(),\"\\n\")"
   ]
  },
  {
   "cell_type": "markdown",
   "metadata": {},
   "source": [
    "# Gradient Boosting Classifier:"
   ]
  },
  {
   "cell_type": "code",
   "execution_count": 142,
   "metadata": {},
   "outputs": [
    {
     "name": "stdout",
     "output_type": "stream",
     "text": [
      "Learning rate:  0.05\n",
      "Accuracy score (training): 0.801\n",
      "Accuracy score (testing): 0.778 \n",
      "\n",
      "Learning rate:  0.075\n",
      "Accuracy score (training): 0.856\n",
      "Accuracy score (testing): 0.829 \n",
      "\n",
      "Learning rate:  0.1\n",
      "Accuracy score (training): 0.880\n",
      "Accuracy score (testing): 0.856 \n",
      "\n",
      "Learning rate:  0.25\n",
      "Accuracy score (training): 0.928\n",
      "Accuracy score (testing): 0.900 \n",
      "\n",
      "Learning rate:  0.5\n",
      "Accuracy score (training): 0.954\n",
      "Accuracy score (testing): 0.940 \n",
      "\n",
      "Learning rate:  0.75\n",
      "Accuracy score (training): 0.983\n",
      "Accuracy score (testing): 0.969 \n",
      "\n",
      "Learning rate:  1\n",
      "Accuracy score (training): 0.990\n",
      "Accuracy score (testing): 0.977 \n",
      "\n"
     ]
    }
   ],
   "source": [
    "scaler = MinMaxScaler()\n",
    "x_train = scaler.fit_transform(x_train)\n",
    "x_test = scaler.transform(x_test)\n",
    "x_train, x_test, y_train, y_test = train_test_split(x_train, y_train, test_size=0.33, random_state=12)\n",
    "lr_list = [0.05, 0.075, 0.1, 0.25, 0.5, 0.75, 1]\n",
    "\n",
    "for learning_rate in lr_list:\n",
    "    gb_clf = GradientBoostingClassifier(n_estimators=20, learning_rate=learning_rate, max_features=2, max_depth=2, random_state=0)\n",
    "    gb_clf.fit(x_train, y_train)\n",
    "\n",
    "    print(\"Learning rate: \", learning_rate)\n",
    "    print(\"Accuracy score (training): {0:.3f}\".format(gb_clf.score(x_train, y_train)))\n",
    "    print(\"Accuracy score (testing): {0:.3f}\".format(gb_clf.score(x_test, y_test)),\"\\n\")"
   ]
  },
  {
   "cell_type": "code",
   "execution_count": 145,
   "metadata": {},
   "outputs": [
    {
     "name": "stdout",
     "output_type": "stream",
     "text": [
      "--------------------Gradient Boosting------------------\n",
      "F1 score: 0.9772066378565647\n",
      "Accuracy score: 0.9771962616822429\n",
      "Confusion matrix: \n",
      " [[1048   35    1]\n",
      " [  17 1056    3]\n",
      " [   1    4  510]]\n",
      "              precision    recall  f1-score   support\n",
      "\n",
      "           1       0.98      0.97      0.97      1084\n",
      "           2       0.96      0.98      0.97      1076\n",
      "           3       0.99      0.99      0.99       515\n",
      "\n",
      "    accuracy                           0.98      2675\n",
      "   macro avg       0.98      0.98      0.98      2675\n",
      "weighted avg       0.98      0.98      0.98      2675\n",
      "\n",
      "Cross Validation Scores: [0.98526703 0.97697974 0.97790055 0.97882136 0.97695853]\n",
      "Cross Validation Scores Mean: 0.9791854435589956 \n",
      "\n"
     ]
    }
   ],
   "source": [
    "gb_clf2 = GradientBoostingClassifier(n_estimators=20, learning_rate=1, max_features=2, max_depth=2, random_state=0)\n",
    "gb_clf2.fit(x_train, y_train)\n",
    "y_pred_gb_clf2 = gb_clf2.predict(x_test)\n",
    "gb_clf2_f1 = metrics.f1_score(y_test, y_pred_gb_clf2, average= \"weighted\")\n",
    "gb_clf2_accuracy = metrics.accuracy_score(y_test, y_pred_gb_clf2)\n",
    "gb_clf2_cm = metrics.confusion_matrix(y_test, y_pred_gb_clf2)\n",
    "print(\"--------------------Gradient Boosting------------------\")\n",
    "print(\"F1 score: {}\".format(gb_clf2_f1))\n",
    "print(\"Accuracy score: {}\".format(gb_clf2_accuracy))\n",
    "print(\"Confusion matrix: \\n\", gb_clf2_cm)\n",
    "print(metrics.classification_report(y_test, y_pred_gb_clf2))\n",
    "kf = KFold(n_splits=5,shuffle=True, random_state=123)\n",
    "cv_scores = cross_val_score(gb_clf2,x_test,y_test,cv=kf)\n",
    "print(\"Cross Validation Scores:\", cv_scores)\n",
    "print(\"Cross Validation Scores Mean:\", cv_scores.mean(),\"\\n\")"
   ]
  },
  {
   "cell_type": "markdown",
   "metadata": {},
   "source": [
    "# Linear Support Vector Classification:"
   ]
  },
  {
   "cell_type": "code",
   "execution_count": 42,
   "metadata": {},
   "outputs": [
    {
     "name": "stdout",
     "output_type": "stream",
     "text": [
      "---------------Linear SVC-------------\n",
      "F1 score: 0.7923261422472292\n",
      "Accuracy score: 0.7920852051890364\n",
      "Confusion matrix: \n",
      " [[6111 1902   38]\n",
      " [2023 5984   37]\n",
      " [  80   39 3597]]\n",
      "              precision    recall  f1-score   support\n",
      "\n",
      "           1       0.74      0.76      0.75      8051\n",
      "           2       0.76      0.74      0.75      8044\n",
      "           3       0.98      0.97      0.97      3716\n",
      "\n",
      "    accuracy                           0.79     19811\n",
      "   macro avg       0.83      0.82      0.82     19811\n",
      "weighted avg       0.79      0.79      0.79     19811\n",
      "\n",
      "Cross Validation Scores: [0.79005804 0.78596668 0.79303382 0.78546189 0.79177183]\n",
      "Cross Validation Scores Mean: 0.7892584523959192 \n",
      "\n"
     ]
    }
   ],
   "source": [
    "svc_clf = make_pipeline(StandardScaler(),LinearSVC(random_state=42, max_iter = 1000))\n",
    "svc_clf.fit(x_train, y_train)\n",
    "y_pred_svc_clf = svc_clf.predict(x_test)\n",
    "svc_clf_f1 = metrics.f1_score(y_test, y_pred_svc_clf, average= \"weighted\")\n",
    "svc_clf_accuracy = metrics.accuracy_score(y_test, y_pred_svc_clf)\n",
    "svc_clf_cm = metrics.confusion_matrix(y_test, y_pred_svc_clf)\n",
    "print(\"---------------Linear SVC-------------\")\n",
    "print(\"F1 score: {}\".format(svc_clf_f1))\n",
    "print(\"Accuracy score: {}\".format(svc_clf_accuracy))\n",
    "print(\"Confusion matrix: \\n\", svc_clf_cm)\n",
    "print(metrics.classification_report(y_test, y_pred_svc_clf))\n",
    "kf = KFold(n_splits=5, shuffle=True, random_state = 42)\n",
    "cv_scores = cross_val_score(svc_clf,x_test,y_test,cv=kf)\n",
    "print(\"Cross Validation Scores:\", cv_scores)\n",
    "print(\"Cross Validation Scores Mean:\", cv_scores.mean(),\"\\n\")"
   ]
  },
  {
   "cell_type": "markdown",
   "metadata": {},
   "source": [
    "# Logistic Regression:"
   ]
  },
  {
   "cell_type": "code",
   "execution_count": 58,
   "metadata": {},
   "outputs": [
    {
     "name": "stdout",
     "output_type": "stream",
     "text": [
      "-------------Logistic Regression-------------\n",
      "F1 score: 0.9166296585468345\n",
      "Accuracy score: 0.9167129372570794\n",
      "Confusion matrix: \n",
      " [[7568  454   29]\n",
      " [1020 6980   44]\n",
      " [  34   69 3613]]\n",
      "              precision    recall  f1-score   support\n",
      "\n",
      "           1       0.88      0.94      0.91      8051\n",
      "           2       0.93      0.87      0.90      8044\n",
      "           3       0.98      0.97      0.98      3716\n",
      "\n",
      "    accuracy                           0.92     19811\n",
      "   macro avg       0.93      0.93      0.93     19811\n",
      "weighted avg       0.92      0.92      0.92     19811\n",
      "\n",
      "Cross Validation Scores: [0.95987888 0.95734478 0.92453306 0.96920747 0.97046946]\n",
      "Cross Validation Scores Mean: 0.9562867299909319 \n",
      "\n"
     ]
    }
   ],
   "source": [
    "lr = LogisticRegression(random_state=0)\n",
    "lr.fit(x_train, y_train)\n",
    "y_pred_lr = lr.predict(x_test)\n",
    "lr_f1 = metrics.f1_score(y_test, y_pred_lr, average= \"weighted\")\n",
    "lr_accuracy = metrics.accuracy_score(y_test, y_pred_lr)\n",
    "lr_cm = metrics.confusion_matrix(y_test, y_pred_lr)\n",
    "print(\"-------------Logistic Regression-------------\")\n",
    "print(\"F1 score: {}\".format(lr_f1))\n",
    "print(\"Accuracy score: {}\".format(lr_accuracy))\n",
    "print(\"Confusion matrix: \\n\", lr_cm)\n",
    "print(metrics.classification_report(y_test, y_pred_lr))\n",
    "kf = KFold(n_splits=5,shuffle=True, random_state=123)\n",
    "cv_scores = cross_val_score(lr, x_test, y_test, cv=kf)\n",
    "print(\"Cross Validation Scores:\", cv_scores)\n",
    "print(\"Cross Validation Scores Mean:\", cv_scores.mean(),\"\\n\")"
   ]
  },
  {
   "cell_type": "markdown",
   "metadata": {},
   "source": [
    "# Validation:"
   ]
  },
  {
   "cell_type": "code",
   "execution_count": 61,
   "metadata": {},
   "outputs": [],
   "source": [
    "test_df = combine_datasets(r\"Unity Data/Validation/*/*.csv\")\n",
    "test_df = test_df.dropna()\n",
    "y = test_df[\"state\"]\n",
    "x = test_df.drop([\"Frame ID\",\"state\",\"Hand Type\",\"# hands\"], axis=1)\n",
    "kfold = StratifiedKFold(n_splits=10, shuffle=True, random_state=93)"
   ]
  },
  {
   "cell_type": "code",
   "execution_count": 11,
   "metadata": {},
   "outputs": [
    {
     "name": "stdout",
     "output_type": "stream",
     "text": [
      "K-nearest neighbors:\n",
      "0.97% (+/- 0.00%)\n"
     ]
    }
   ],
   "source": [
    "print(\"K-nearest neighbors:\")\n",
    "print(\"%.2f%% (+/- %.2f%%)\" % (np.mean(cross_val_score(knn, x, y, cv=kfold,n_jobs=-1)), np.std(cross_val_score(knn, x, y, cv=kfold,n_jobs=-1))))"
   ]
  },
  {
   "cell_type": "code",
   "execution_count": 193,
   "metadata": {},
   "outputs": [
    {
     "name": "stdout",
     "output_type": "stream",
     "text": [
      "Random Forest:\n",
      "0.80% (+/- 0.01%)\n"
     ]
    }
   ],
   "source": [
    "print(\"Random Forest:\")\n",
    "print(\"%.2f%% (+/- %.2f%%)\" % (np.mean(cross_val_score(rf, x, y, cv=kfold,n_jobs=-1)), np.std(cross_val_score(rf, x, y, cv=kfold,n_jobs=-1))))"
   ]
  },
  {
   "cell_type": "code",
   "execution_count": 194,
   "metadata": {},
   "outputs": [
    {
     "name": "stdout",
     "output_type": "stream",
     "text": [
      "Gradient Boosting:\n",
      "0.93% (+/- 0.01%)\n"
     ]
    }
   ],
   "source": [
    "print(\"Gradient Boosting:\")\n",
    "print(\"%.2f%% (+/- %.2f%%)\" % (np.mean(cross_val_score(gb_clf2, x, y, cv=kfold,n_jobs=-1)), np.std(cross_val_score(gb_clf2, x, y, cv=kfold,n_jobs=-1))))"
   ]
  },
  {
   "cell_type": "code",
   "execution_count": 45,
   "metadata": {},
   "outputs": [
    {
     "name": "stdout",
     "output_type": "stream",
     "text": [
      "Linear SVC:\n",
      "0.85% (+/- 0.01%)\n"
     ]
    }
   ],
   "source": [
    "print(\"Linear SVC:\")\n",
    "print(\"%.2f%% (+/- %.2f%%)\" % (np.mean(cross_val_score(svc_clf, x, y, cv=kfold)), np.std(cross_val_score(svc_clf, x, y, cv=kfold))))"
   ]
  },
  {
   "cell_type": "code",
   "execution_count": 62,
   "metadata": {},
   "outputs": [
    {
     "name": "stdout",
     "output_type": "stream",
     "text": [
      "Logistic Regression:\n",
      "0.83% (+/- 0.00%)\n"
     ]
    }
   ],
   "source": [
    "print(\"Logistic Regression:\")\n",
    "print(\"%.2f%% (+/- %.2f%%)\" % (np.mean(cross_val_score(lr, x, y, cv=kfold)), np.std(cross_val_score(lr, x, y, cv=kfold))))"
   ]
  },
  {
   "cell_type": "code",
   "execution_count": 63,
   "metadata": {},
   "outputs": [
    {
     "data": {
      "image/png": "[encoded data removed]",
      "text/plain": [
       "<Figure size 576x576 with 1 Axes>"
      ]
     },
     "metadata": {
      "needs_background": "light"
     },
     "output_type": "display_data"
    }
   ],
   "source": [
    "labels = ['KNN', 'Random Forest', 'Gradient Boosting','Linear SVC', 'Logistic Regression']\n",
    "testing_scores = [0.90, 0.95, 0.97, 0.79, 0.91]\n",
    "validation_scores = [0.97, 0.80, 0.93, 0.85, 0.83]\n",
    "\n",
    "width = 0.35  \n",
    "x = np.arange(len(labels))\n",
    "fig, ax = plt.subplots(figsize=(8,8))\n",
    "rects1 = ax.bar(x - width/2, testing_scores, width, color='c')\n",
    "rects2 = ax.bar(x + width/2, validation_scores, width, color='lightslategrey')\n",
    "ax.set_title('Testing and Validation Score Comparisson', fontweight=\"bold\")\n",
    "ax.set_xlabel('Model Name', fontweight=\"bold\")\n",
    "ax.set_ylabel('Accuaracy %', fontweight=\"bold\")\n",
    "ax.set_xticks(x)\n",
    "ax.set_xticklabels(labels)\n",
    "plt.legend(['Testing', 'Validation'], loc='best')\n",
    "plt.xticks(rotation=45)\n",
    "def autolabel(rects):\n",
    "    for rect in rects:\n",
    "        height = rect.get_height()\n",
    "        ax.annotate('{}'.format(height),\n",
    "                    xy=(rect.get_x() + rect.get_width() / 2, height),\n",
    "                    xytext=(0, 3), \n",
    "                    textcoords=\"offset points\",\n",
    "                    ha='center', va='bottom')\n",
    "autolabel(rects1)\n",
    "autolabel(rects2)\n",
    "plt.tight_layout()\n",
    "plt.show()"
   ]
  }
 ],
 "metadata": {
  "kernelspec": {
   "display_name": "Python 3",
   "language": "python",
   "name": "python3"
  },
  "language_info": {
   "codemirror_mode": {
    "name": "ipython",
    "version": 3
   },
   "file_extension": ".py",
   "mimetype": "text/x-python",
   "name": "python",
   "nbconvert_exporter": "python",
   "pygments_lexer": "ipython3",
   "version": "3.7.4"
  }
 },
 "nbformat": 4,
 "nbformat_minor": 2
}
